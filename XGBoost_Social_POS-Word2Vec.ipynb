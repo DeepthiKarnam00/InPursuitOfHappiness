{
 "cells": [
  {
   "cell_type": "code",
   "execution_count": 15,
   "metadata": {},
   "outputs": [],
   "source": [
    "import pandas as pd\n",
    "from sklearn.model_selection import train_test_split\n",
    "from sklearn.preprocessing import LabelEncoder\n",
    "from sklearn.preprocessing import OneHotEncoder\n",
    "from sklearn.preprocessing import Imputer\n",
    "import numpy as np\n",
    "\n",
    "from PreprocessingKeyWords2 import preprocessing\n",
    "preprocessor=preprocessing()\n",
    "\n",
    "from Word2Vec import Word2Vec2\n",
    "word2vecmodel=Word2Vec2()\n",
    "word_model=word2vecmodel.loadWord2Vec()"
   ]
  },
  {
   "cell_type": "code",
   "execution_count": 16,
   "metadata": {},
   "outputs": [],
   "source": [
    "train_data=pd.read_csv(\"trainData.csv\")\n",
    "\n",
    "#Data Preprocessing\n",
    "\n",
    "#removing the hmid\n",
    "train_data = train_data.drop(['hmid','concepts'], axis=1)\n",
    "\n",
    "#remove missing values\n",
    "train_data=train_data.replace(('prefer not to say'),np.NAN)\n",
    "#print(train_data.isnull().sum())\n",
    "train_data=train_data.dropna()\n",
    "\n",
    "#print(train_data.isnull().sum())\n",
    "# print(len(train_data))\n",
    "\n",
    "#creating features for moments data\n",
    "# happycorpus=preprocessor.getSocialKeywords(train_data['moment'])\n",
    "happycorpus=preprocessor.getAgencyKeywords(train_data['moment'])\n",
    "\n",
    "featureMatrix=word2vecmodel.getFeatureMatrix(word_model,happycorpus)"
   ]
  },
  {
   "cell_type": "code",
   "execution_count": 23,
   "metadata": {},
   "outputs": [
    {
     "name": "stdout",
     "output_type": "stream",
     "text": [
      "Step 1: <class 'pandas.core.series.Series'>\n",
      "done !!\n"
     ]
    }
   ],
   "source": [
    "y_agency = train_data.agency\n",
    "y_social=train_data.social\n",
    "print(\"Step 1:\",type(y_social))\n",
    "\n",
    "# #train n test data split\n",
    "# train_X, test_X, train_y, test_y = train_test_split(featureMatrix, y_social, test_size=0.25)\n",
    "# print(\"done !!\")\n",
    "\n",
    "train_X, test_X, train_y, test_y = train_test_split(featureMatrix, y_agency, test_size=0.25)\n",
    "print(\"done !!\")\n"
   ]
  },
  {
   "cell_type": "code",
   "execution_count": 24,
   "metadata": {},
   "outputs": [
    {
     "name": "stdout",
     "output_type": "stream",
     "text": [
      "XGBClassifier(base_score=0.5, booster='gbtree', colsample_bylevel=1,\n",
      "              colsample_bynode=1, colsample_bytree=1, gamma=0,\n",
      "              learning_rate=0.1, max_delta_step=0, max_depth=3,\n",
      "              min_child_weight=1, missing=None, n_estimators=100, n_jobs=1,\n",
      "              nthread=None, objective='binary:logistic', random_state=0,\n",
      "              reg_alpha=0, reg_lambda=1, scale_pos_weight=1, seed=None,\n",
      "              silent=None, subsample=1, verbosity=1)\n"
     ]
    }
   ],
   "source": [
    "from xgboost import XGBClassifier\n",
    "from sklearn.metrics import accuracy_score\n",
    "model = XGBClassifier()\n",
    "model.fit(train_X, train_y)\n",
    "print(model)\n",
    "# make predictions for test data\n",
    "y_pred = model.predict(test_X)"
   ]
  },
  {
   "cell_type": "code",
   "execution_count": 25,
   "metadata": {},
   "outputs": [
    {
     "name": "stdout",
     "output_type": "stream",
     "text": [
      "['yes' 'yes' 'yes' ... 'yes' 'yes' 'yes']\n",
      "Accuracy: 82.22%\n"
     ]
    }
   ],
   "source": [
    "print(y_pred)\n",
    "predictions = [value for value in y_pred]\n",
    "# evaluate predictions\n",
    "accuracy = accuracy_score(test_y, predictions)\n",
    "print(\"Accuracy: %.2f%%\" % (accuracy * 100.0))"
   ]
  },
  {
   "cell_type": "code",
   "execution_count": null,
   "metadata": {},
   "outputs": [],
   "source": []
  }
 ],
 "metadata": {
  "kernelspec": {
   "display_name": "Python 3",
   "language": "python",
   "name": "python3"
  },
  "language_info": {
   "codemirror_mode": {
    "name": "ipython",
    "version": 3
   },
   "file_extension": ".py",
   "mimetype": "text/x-python",
   "name": "python",
   "nbconvert_exporter": "python",
   "pygments_lexer": "ipython3",
   "version": "3.7.3"
  }
 },
 "nbformat": 4,
 "nbformat_minor": 2
}
