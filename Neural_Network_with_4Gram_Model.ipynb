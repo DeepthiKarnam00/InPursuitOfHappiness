{
 "cells": [
  {
   "cell_type": "code",
   "execution_count": 1,
   "metadata": {},
   "outputs": [],
   "source": [
    "import matplotlib.pyplot as plt\n",
    "import pandas as pd\n",
    "import numpy as np"
   ]
  },
  {
   "cell_type": "code",
   "execution_count": 2,
   "metadata": {},
   "outputs": [
    {
     "name": "stdout",
     "output_type": "stream",
     "text": [
      "Dataset Loaded : Done\n"
     ]
    },
    {
     "data": {
      "text/html": [
       "<div>\n",
       "<style scoped>\n",
       "    .dataframe tbody tr th:only-of-type {\n",
       "        vertical-align: middle;\n",
       "    }\n",
       "\n",
       "    .dataframe tbody tr th {\n",
       "        vertical-align: top;\n",
       "    }\n",
       "\n",
       "    .dataframe thead th {\n",
       "        text-align: right;\n",
       "    }\n",
       "</style>\n",
       "<table border=\"1\" class=\"dataframe\">\n",
       "  <thead>\n",
       "    <tr style=\"text-align: right;\">\n",
       "      <th></th>\n",
       "      <th>hmid</th>\n",
       "      <th>moment</th>\n",
       "      <th>concepts</th>\n",
       "      <th>agency</th>\n",
       "      <th>social</th>\n",
       "      <th>age</th>\n",
       "      <th>country</th>\n",
       "      <th>gender</th>\n",
       "      <th>married</th>\n",
       "      <th>parenthood</th>\n",
       "      <th>reflection</th>\n",
       "      <th>duration</th>\n",
       "    </tr>\n",
       "  </thead>\n",
       "  <tbody>\n",
       "    <tr>\n",
       "      <td>0</td>\n",
       "      <td>27674</td>\n",
       "      <td>I was happy when my son got 90% marks in his e...</td>\n",
       "      <td>education|family</td>\n",
       "      <td>no</td>\n",
       "      <td>yes</td>\n",
       "      <td>29.0</td>\n",
       "      <td>IND</td>\n",
       "      <td>m</td>\n",
       "      <td>married</td>\n",
       "      <td>y</td>\n",
       "      <td>24h</td>\n",
       "      <td>half_a_day</td>\n",
       "    </tr>\n",
       "    <tr>\n",
       "      <td>1</td>\n",
       "      <td>27685</td>\n",
       "      <td>went to movies with my friends it was fun</td>\n",
       "      <td>entertainment</td>\n",
       "      <td>yes</td>\n",
       "      <td>yes</td>\n",
       "      <td>29.0</td>\n",
       "      <td>IND</td>\n",
       "      <td>m</td>\n",
       "      <td>single</td>\n",
       "      <td>y</td>\n",
       "      <td>24h</td>\n",
       "      <td>half_a_day</td>\n",
       "    </tr>\n",
       "    <tr>\n",
       "      <td>2</td>\n",
       "      <td>27691</td>\n",
       "      <td>A hot kiss with my girl friend last night made...</td>\n",
       "      <td>romance</td>\n",
       "      <td>yes</td>\n",
       "      <td>yes</td>\n",
       "      <td>25.0</td>\n",
       "      <td>IND</td>\n",
       "      <td>m</td>\n",
       "      <td>married</td>\n",
       "      <td>y</td>\n",
       "      <td>24h</td>\n",
       "      <td>at_least_one_hour</td>\n",
       "    </tr>\n",
       "    <tr>\n",
       "      <td>3</td>\n",
       "      <td>27701</td>\n",
       "      <td>My son woke me up to a fantastic breakfast of ...</td>\n",
       "      <td>family|food</td>\n",
       "      <td>no</td>\n",
       "      <td>yes</td>\n",
       "      <td>79</td>\n",
       "      <td>USA</td>\n",
       "      <td>f</td>\n",
       "      <td>widowed</td>\n",
       "      <td>y</td>\n",
       "      <td>24h</td>\n",
       "      <td>all_day_im_still_feeling_it</td>\n",
       "    </tr>\n",
       "    <tr>\n",
       "      <td>4</td>\n",
       "      <td>27712</td>\n",
       "      <td>My older daughter keeps patting my younger dau...</td>\n",
       "      <td>family</td>\n",
       "      <td>no</td>\n",
       "      <td>yes</td>\n",
       "      <td>30</td>\n",
       "      <td>USA</td>\n",
       "      <td>f</td>\n",
       "      <td>married</td>\n",
       "      <td>y</td>\n",
       "      <td>24h</td>\n",
       "      <td>a_few_moment</td>\n",
       "    </tr>\n",
       "    <tr>\n",
       "      <td>...</td>\n",
       "      <td>...</td>\n",
       "      <td>...</td>\n",
       "      <td>...</td>\n",
       "      <td>...</td>\n",
       "      <td>...</td>\n",
       "      <td>...</td>\n",
       "      <td>...</td>\n",
       "      <td>...</td>\n",
       "      <td>...</td>\n",
       "      <td>...</td>\n",
       "      <td>...</td>\n",
       "      <td>...</td>\n",
       "    </tr>\n",
       "    <tr>\n",
       "      <td>10555</td>\n",
       "      <td>128748</td>\n",
       "      <td>My husband called me just to tell me he loved me.</td>\n",
       "      <td>romance|family</td>\n",
       "      <td>no</td>\n",
       "      <td>yes</td>\n",
       "      <td>58</td>\n",
       "      <td>USA</td>\n",
       "      <td>f</td>\n",
       "      <td>married</td>\n",
       "      <td>n</td>\n",
       "      <td>24h</td>\n",
       "      <td>a_few_minutes</td>\n",
       "    </tr>\n",
       "    <tr>\n",
       "      <td>10556</td>\n",
       "      <td>128753</td>\n",
       "      <td>I worked out, which always makes me feel good.</td>\n",
       "      <td>career</td>\n",
       "      <td>yes</td>\n",
       "      <td>no</td>\n",
       "      <td>24</td>\n",
       "      <td>USA</td>\n",
       "      <td>m</td>\n",
       "      <td>married</td>\n",
       "      <td>y</td>\n",
       "      <td>24h</td>\n",
       "      <td>at_least_one_hour</td>\n",
       "    </tr>\n",
       "    <tr>\n",
       "      <td>10557</td>\n",
       "      <td>128754</td>\n",
       "      <td>Finally got to watch the new Resident Evil movie.</td>\n",
       "      <td>entertainment</td>\n",
       "      <td>yes</td>\n",
       "      <td>no</td>\n",
       "      <td>34</td>\n",
       "      <td>USA</td>\n",
       "      <td>m</td>\n",
       "      <td>divorced</td>\n",
       "      <td>y</td>\n",
       "      <td>24h</td>\n",
       "      <td>at_least_one_hour</td>\n",
       "    </tr>\n",
       "    <tr>\n",
       "      <td>10558</td>\n",
       "      <td>128757</td>\n",
       "      <td>I got to talk to an old friend and reminisce o...</td>\n",
       "      <td>conversation</td>\n",
       "      <td>yes</td>\n",
       "      <td>yes</td>\n",
       "      <td>28</td>\n",
       "      <td>USA</td>\n",
       "      <td>f</td>\n",
       "      <td>single</td>\n",
       "      <td>y</td>\n",
       "      <td>24h</td>\n",
       "      <td>at_least_one_hour</td>\n",
       "    </tr>\n",
       "    <tr>\n",
       "      <td>10559</td>\n",
       "      <td>128765</td>\n",
       "      <td>I had a great meeting yesterday at work with m...</td>\n",
       "      <td>career</td>\n",
       "      <td>yes</td>\n",
       "      <td>yes</td>\n",
       "      <td>56</td>\n",
       "      <td>USA</td>\n",
       "      <td>f</td>\n",
       "      <td>married</td>\n",
       "      <td>n</td>\n",
       "      <td>24h</td>\n",
       "      <td>all_day_im_still_feeling_it</td>\n",
       "    </tr>\n",
       "  </tbody>\n",
       "</table>\n",
       "<p>10560 rows × 12 columns</p>\n",
       "</div>"
      ],
      "text/plain": [
       "         hmid                                             moment  \\\n",
       "0       27674  I was happy when my son got 90% marks in his e...   \n",
       "1       27685          went to movies with my friends it was fun   \n",
       "2       27691  A hot kiss with my girl friend last night made...   \n",
       "3       27701  My son woke me up to a fantastic breakfast of ...   \n",
       "4       27712  My older daughter keeps patting my younger dau...   \n",
       "...       ...                                                ...   \n",
       "10555  128748  My husband called me just to tell me he loved me.   \n",
       "10556  128753     I worked out, which always makes me feel good.   \n",
       "10557  128754  Finally got to watch the new Resident Evil movie.   \n",
       "10558  128757  I got to talk to an old friend and reminisce o...   \n",
       "10559  128765  I had a great meeting yesterday at work with m...   \n",
       "\n",
       "               concepts agency social   age country gender   married  \\\n",
       "0      education|family     no    yes  29.0     IND      m   married   \n",
       "1         entertainment    yes    yes  29.0     IND      m    single   \n",
       "2               romance    yes    yes  25.0     IND      m   married   \n",
       "3           family|food     no    yes    79     USA      f   widowed   \n",
       "4                family     no    yes    30     USA      f   married   \n",
       "...                 ...    ...    ...   ...     ...    ...       ...   \n",
       "10555    romance|family     no    yes    58     USA      f   married   \n",
       "10556            career    yes     no    24     USA      m   married   \n",
       "10557     entertainment    yes     no    34     USA      m  divorced   \n",
       "10558      conversation    yes    yes    28     USA      f    single   \n",
       "10559            career    yes    yes    56     USA      f   married   \n",
       "\n",
       "      parenthood reflection                     duration  \n",
       "0              y        24h                   half_a_day  \n",
       "1              y        24h                   half_a_day  \n",
       "2              y        24h            at_least_one_hour  \n",
       "3              y        24h  all_day_im_still_feeling_it  \n",
       "4              y        24h                 a_few_moment  \n",
       "...          ...        ...                          ...  \n",
       "10555          n        24h                a_few_minutes  \n",
       "10556          y        24h            at_least_one_hour  \n",
       "10557          y        24h            at_least_one_hour  \n",
       "10558          y        24h            at_least_one_hour  \n",
       "10559          n        24h  all_day_im_still_feeling_it  \n",
       "\n",
       "[10560 rows x 12 columns]"
      ]
     },
     "execution_count": 2,
     "metadata": {},
     "output_type": "execute_result"
    }
   ],
   "source": [
    "dataset = pd.read_csv('labeled_10k.csv') \n",
    "print(\"Dataset Loaded : Done\")\n",
    "dataset"
   ]
  },
  {
   "cell_type": "code",
   "execution_count": 3,
   "metadata": {},
   "outputs": [
    {
     "name": "stdout",
     "output_type": "stream",
     "text": [
      "Data Processing 1 : Done\n"
     ]
    }
   ],
   "source": [
    "from sklearn.preprocessing import LabelEncoder\n",
    "\n",
    "df = dataset\n",
    "dummies = pd.get_dummies(df.country)\n",
    "merged = pd.concat([df,dummies], axis='columns')\n",
    "\n",
    "print(\"Data Processing 1 : Done\")"
   ]
  },
  {
   "cell_type": "code",
   "execution_count": 4,
   "metadata": {},
   "outputs": [
    {
     "name": "stdout",
     "output_type": "stream",
     "text": [
      "Data Processing 2 : Done\n"
     ]
    }
   ],
   "source": [
    "final = merged.drop(['country', 'SWE'],axis='columns')\n",
    "\n",
    "Y_agency = final.agency\n",
    "Y_social = final.social\n",
    "\n",
    "\n",
    "X = final.drop('agency',axis='columns')\n",
    "X = X.drop('social',axis='columns')\n",
    "\n",
    "dummies = pd.get_dummies(X.concepts)\n",
    "X = pd.concat([X,dummies], axis='columns')\n",
    "\n",
    "X = X.drop(['gender', 'hmid', 'concepts', 'animals', 'married', 'parenthood', 'reflection', 'duration'],axis='columns')\n",
    "\n",
    "print(\"Data Processing 2 : Done\")"
   ]
  },
  {
   "cell_type": "code",
   "execution_count": 5,
   "metadata": {},
   "outputs": [
    {
     "name": "stdout",
     "output_type": "stream",
     "text": [
      "Data Processing 3 : Done\n"
     ]
    }
   ],
   "source": [
    "#X[\"age\"] = apply(pd.to_numeric(X[\"age\"]))\n",
    "\n",
    "X[[\"age\"]] = X[[\"age\"]].apply(pd.to_numeric,  errors='coerce')\n",
    "\n",
    "print(\"Data Processing 3 : Done\")"
   ]
  },
  {
   "cell_type": "code",
   "execution_count": 6,
   "metadata": {},
   "outputs": [
    {
     "name": "stdout",
     "output_type": "stream",
     "text": [
      "Data Processing 4 : Done\n"
     ]
    }
   ],
   "source": [
    "tmp = X\n",
    "tmp = tmp.drop(['moment'],axis='columns')\n",
    "\n",
    "print(\"Data Processing 4 : Done\")"
   ]
  },
  {
   "cell_type": "code",
   "execution_count": 7,
   "metadata": {},
   "outputs": [
    {
     "name": "stdout",
     "output_type": "stream",
     "text": [
      "Prepare Anagram List : Done\n"
     ]
    }
   ],
   "source": [
    "#df1 = dataset[['moment']]\n",
    "import nltk\n",
    "from nltk import ngrams\n",
    "from collections import defaultdict \n",
    "\n",
    "moment_List = dataset['moment'].values\n",
    "data = []\n",
    "data_process = []\n",
    "count_data = defaultdict(int)\n",
    "\n",
    "for count,value in enumerate(moment_List):\n",
    "    Four_grams = ngrams(value.split(), 4)\n",
    "    token_freq = nltk.FreqDist(Four_grams)\n",
    "    for token in token_freq.keys():\n",
    "        str1=\"\"\n",
    "        for val in token:\n",
    "            str1 += val+\" \"\n",
    "        data_process.append(str1)\n",
    "        data.append((count,str1))\n",
    "        count_data[count] += 1\n",
    "\n",
    "print(\"Prepare Anagram List : Done\")"
   ]
  },
  {
   "cell_type": "code",
   "execution_count": 8,
   "metadata": {},
   "outputs": [
    {
     "name": "stdout",
     "output_type": "stream",
     "text": [
      "Agency Value set : Done\n",
      "Social Value set : Done\n"
     ]
    }
   ],
   "source": [
    "agency      = dataset['agency'].values\n",
    "social      = dataset['social'].values\n",
    "\n",
    "for n, i in enumerate(agency):\n",
    "    if i == 'no':\n",
    "        agency[n]=0\n",
    "    else:\n",
    "        agency[n]=1\n",
    "        \n",
    "for n, i in enumerate(social):\n",
    "    if i == 'no':\n",
    "        social[n]=0\n",
    "    else:\n",
    "        social[n]=1\n",
    "        \n",
    "print(\"Agency Value set : Done\")\n",
    "print(\"Social Value set : Done\")"
   ]
  },
  {
   "cell_type": "code",
   "execution_count": 9,
   "metadata": {},
   "outputs": [
    {
     "name": "stdout",
     "output_type": "stream",
     "text": [
      "Y_Agency Prepared : Done\n",
      "Y_Social Prepared : Done\n"
     ]
    }
   ],
   "source": [
    "column_values = pd.Series(data_process)\n",
    "df = pd.DataFrame(data) \n",
    "\n",
    "y_agency=[]\n",
    "for i,j in zip(count_data.values(), agency):\n",
    "    for val in range(0,i):\n",
    "        y_agency.append(j)\n",
    "        \n",
    "y_social=[]\n",
    "for i,j in zip(count_data.values(), social):\n",
    "    for val in range(0,i):\n",
    "        y_social.append(j)\n",
    "\n",
    "print(\"Y_Agency Prepared : Done\")\n",
    "print(\"Y_Social Prepared : Done\")\n"
   ]
  },
  {
   "cell_type": "code",
   "execution_count": 10,
   "metadata": {},
   "outputs": [
    {
     "name": "stdout",
     "output_type": "stream",
     "text": [
      "done\n"
     ]
    }
   ],
   "source": [
    "def split_list(a_list, y):\n",
    "    return a_list[:y], a_list[y+1:]\n",
    "\n",
    "\n",
    "x = int(0.2*len(y_agency))+1\n",
    "y = int(len(y_agency) - 0.2*len(y_agency))\n",
    "y_agency_train, y_agency_test = split_list(y_agency,y)\n",
    "\n",
    "x_train_, x_test_ = split_list(data_process, y)\n",
    "y_social_train, y_social_test = split_list(y_social, y)\n",
    "\n",
    "print(\"done\")"
   ]
  },
  {
   "cell_type": "code",
   "execution_count": 11,
   "metadata": {},
   "outputs": [
    {
     "name": "stdout",
     "output_type": "stream",
     "text": [
      "(88187, 6422)\n",
      "Vectorizer : Done\n"
     ]
    }
   ],
   "source": [
    "from sklearn.feature_extraction.text import TfidfVectorizer\n",
    "\n",
    "tf_idf = TfidfVectorizer(min_df=1, stop_words='english')\n",
    "x_train = tf_idf.fit_transform(x_train_)\n",
    "x_test = tf_idf.transform(x_test_)\n",
    "\n",
    "x_train.toarray()\n",
    "print(x_train.shape)\n",
    "\n",
    "print(\"Vectorizer : Done\")\n",
    "\n"
   ]
  },
  {
   "cell_type": "code",
   "execution_count": 13,
   "metadata": {},
   "outputs": [
    {
     "name": "stdout",
     "output_type": "stream",
     "text": [
      "Neural Network Social :  49.19713326680577 % accuracy\n",
      "Neural Network Model Fit : Done\n"
     ]
    }
   ],
   "source": [
    "# Predicting Social\n",
    "\n",
    "from sklearn.neural_network import MLPClassifier\n",
    "\n",
    "nn = MLPClassifier(activation='logistic', solver='sgd', hidden_layer_sizes=(100,50), random_state = 1)\n",
    "\n",
    "# model = LogisticRegression(solver='liblinear')\n",
    "# y_agency=y_agency.astype('int')\n",
    "\n",
    "nn.fit(x_train, y_social_train)\n",
    "\n",
    "y_pred = nn.predict(x_test)\n",
    "\n",
    "count=0\n",
    "for i in range(len(y_pred)):\n",
    "    if y_pred[i] == y_social_test[i]:\n",
    "        count += 1\n",
    "\n",
    "print(\"Neural Network Social : \",count/len(y_pred) * 100,\"% accuracy\")\n",
    "\n",
    "print(\"Neural Network Model Fit : Done\")\n"
   ]
  },
  {
   "cell_type": "code",
   "execution_count": 14,
   "metadata": {},
   "outputs": [
    {
     "name": "stdout",
     "output_type": "stream",
     "text": [
      "Neural Network Agency :  74.61217454413499 % accuracy\n",
      "Neural Network Model Fit : Done\n"
     ]
    }
   ],
   "source": [
    "# Predicting Agency with Activation = Relu\n",
    "\n",
    "from sklearn.neural_network import MLPClassifier\n",
    "\n",
    "nn = MLPClassifier(activation='relu', solver='sgd', hidden_layer_sizes=(100,50), random_state = 1)\n",
    "\n",
    "# model = LogisticRegression(solver='liblinear')\n",
    "# y_agency=y_agency.astype('int')\n",
    "\n",
    "nn.fit(x_train, y_agency_train)\n",
    "\n",
    "y_pred = nn.predict(x_test)\n",
    "\n",
    "count=0\n",
    "for i in range(len(y_pred)):\n",
    "    if y_pred[i] == y_agency_test[i]:\n",
    "        count += 1\n",
    "\n",
    "print(\"Neural Network Agency : \",count/len(y_pred) * 100,\"% accuracy\")\n",
    "\n",
    "print(\"Neural Network Model Fit : Done\")\n"
   ]
  }
 ],
 "metadata": {
  "kernelspec": {
   "display_name": "Python 3",
   "language": "python",
   "name": "python3"
  },
  "language_info": {
   "codemirror_mode": {
    "name": "ipython",
    "version": 3
   },
   "file_extension": ".py",
   "mimetype": "text/x-python",
   "name": "python",
   "nbconvert_exporter": "python",
   "pygments_lexer": "ipython3",
   "version": "3.6.8"
  }
 },
 "nbformat": 4,
 "nbformat_minor": 2
}
