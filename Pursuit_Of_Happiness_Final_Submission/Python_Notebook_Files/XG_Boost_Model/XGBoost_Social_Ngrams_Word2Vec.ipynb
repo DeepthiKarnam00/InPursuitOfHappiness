{
 "cells": [
  {
   "cell_type": "code",
   "execution_count": 1,
   "metadata": {},
   "outputs": [
    {
     "name": "stdout",
     "output_type": "stream",
     "text": [
      "[[-0.1076434   0.05424118 -0.00710406 ... -0.01430076 -0.06561279\n",
      "   0.07780457]\n",
      " [-0.14706644  0.08422852 -0.02103778 ... -0.03216404 -0.08666397\n",
      "   0.08807224]\n",
      " [-0.14288445  0.09338379  0.00132895 ... -0.02467202 -0.08329341\n",
      "   0.08229497]\n",
      " ...\n",
      " [-0.1116906   0.08510418 -0.01746727 ... -0.0069879  -0.09046663\n",
      "   0.09317452]\n",
      " [-0.12336561  0.08139716 -0.0101454  ... -0.01888311 -0.09106445\n",
      "   0.08679199]\n",
      " [-0.13280472  0.08436351 -0.01240976 ... -0.02877154 -0.08762718\n",
      "   0.11678299]]\n",
      "\n",
      "\n",
      "\n",
      "\n",
      " [[ 0.06539663  0.06683604  0.05779203 ... -0.0880839   0.02461243\n",
      "  -0.03683599]\n",
      " [ 0.04991998  0.02516831  0.0042589  ... -0.08509657  0.07657877\n",
      "  -0.04275174]\n",
      " [ 0.0348053   0.00196966  0.07784017 ... -0.03153992  0.01524353\n",
      "  -0.01417033]\n",
      " ...\n",
      " [ 0.03589545  0.03853353  0.0612793  ... -0.02773709  0.04360623\n",
      "  -0.07706705]\n",
      " [ 0.05375126  0.03165763  0.0498788  ... -0.09249878  0.03982816\n",
      "  -0.02919224]\n",
      " [-0.01140698  0.03577238  0.02974722 ... -0.01321494  0.0154386\n",
      "  -0.05046123]]\n"
     ]
    }
   ],
   "source": [
    "import pandas as pd\n",
    "from sklearn.model_selection import train_test_split\n",
    "from sklearn.preprocessing import LabelEncoder\n",
    "from sklearn.preprocessing import OneHotEncoder\n",
    "from sklearn.preprocessing import Imputer\n",
    "import numpy as np\n",
    "\n",
    "from PreprocessingKeyWords import preprocessing\n",
    "preprocessor=preprocessing()\n",
    "\n",
    "from Word2Vec import Word2Vec2\n",
    "word2vecmodel=Word2Vec2()\n",
    "model=word2vecmodel.loadWord2Vec()"
   ]
  },
  {
   "cell_type": "code",
   "execution_count": 2,
   "metadata": {},
   "outputs": [],
   "source": [
    "train_data=pd.read_csv(\"trainData.csv\")\n",
    "\n",
    "#Data Preprocessing\n",
    "\n",
    "#removing the hmid\n",
    "train_data = train_data.drop(['hmid','concepts'], axis=1)\n",
    "\n",
    "#remove missing values\n",
    "train_data=train_data.replace(('prefer not to say'),np.NAN)\n",
    "#print(train_data.isnull().sum())\n",
    "train_data=train_data.dropna()\n",
    "\n",
    "#print(train_data.isnull().sum())\n",
    "# print(len(train_data))\n",
    "\n",
    "#creating features for moments data\n",
    "#happycorpus=preprocessor.getSocialKeywords(train_data['moment'])\n",
    "happycorpus=preprocessor.getAgencyKeywords(train_data['moment'])\n",
    "happycorpus=preprocessor.getSocialNGrams(train_data['moment'])\n",
    "\n",
    "featureMatrix=word2vecmodel.getFeatureMatrix_Ngrams(model,happycorpus)"
   ]
  },
  {
   "cell_type": "code",
   "execution_count": 6,
   "metadata": {},
   "outputs": [
    {
     "name": "stdout",
     "output_type": "stream",
     "text": [
      "Step 1: <class 'pandas.core.series.Series'>\n",
      "done !!\n"
     ]
    }
   ],
   "source": [
    "y_agency = train_data.agency\n",
    "y_social=train_data.social\n",
    "print(\"Step 1:\",type(y_social))\n",
    "\n",
    "#train n test data split\n",
    "train_X, test_X, train_y, test_y = train_test_split(featureMatrix, y_social, test_size=0.25)\n",
    "print(\"done !!\")\n",
    "\n",
    "# train_X, test_X, train_y, test_y = train_test_split(featureMatrix, y_agency, test_size=0.25)\n",
    "# print(\"done !!\")\n"
   ]
  },
  {
   "cell_type": "code",
   "execution_count": 7,
   "metadata": {},
   "outputs": [
    {
     "name": "stdout",
     "output_type": "stream",
     "text": [
      "XGBClassifier(base_score=0.5, booster='gbtree', colsample_bylevel=1,\n",
      "              colsample_bynode=1, colsample_bytree=1, gamma=0,\n",
      "              learning_rate=0.1, max_delta_step=0, max_depth=3,\n",
      "              min_child_weight=1, missing=None, n_estimators=100, n_jobs=1,\n",
      "              nthread=None, objective='binary:logistic', random_state=0,\n",
      "              reg_alpha=0, reg_lambda=1, scale_pos_weight=1, seed=None,\n",
      "              silent=None, subsample=1, verbosity=1)\n"
     ]
    }
   ],
   "source": [
    "from xgboost import XGBClassifier\n",
    "from sklearn.metrics import accuracy_score\n",
    "model = XGBClassifier()\n",
    "model.fit(train_X, train_y)\n",
    "print(model)\n",
    "# make predictions for test data\n",
    "y_pred = model.predict(test_X)"
   ]
  },
  {
   "cell_type": "code",
   "execution_count": 8,
   "metadata": {},
   "outputs": [
    {
     "name": "stdout",
     "output_type": "stream",
     "text": [
      "['yes' 'no' 'no' ... 'no' 'yes' 'no']\n",
      "Accuracy: 84.59%\n"
     ]
    }
   ],
   "source": [
    "print(y_pred)\n",
    "predictions = [value for value in y_pred]\n",
    "# evaluate predictions\n",
    "accuracy = accuracy_score(test_y, predictions)\n",
    "print(\"Accuracy: %.2f%%\" % (accuracy * 100.0))"
   ]
  },
  {
   "cell_type": "code",
   "execution_count": null,
   "metadata": {},
   "outputs": [],
   "source": []
  }
 ],
 "metadata": {
  "kernelspec": {
   "display_name": "Python 3",
   "language": "python",
   "name": "python3"
  },
  "language_info": {
   "codemirror_mode": {
    "name": "ipython",
    "version": 3
   },
   "file_extension": ".py",
   "mimetype": "text/x-python",
   "name": "python",
   "nbconvert_exporter": "python",
   "pygments_lexer": "ipython3",
   "version": "3.6.8"
  }
 },
 "nbformat": 4,
 "nbformat_minor": 2
}
