{
 "cells": [
  {
   "cell_type": "code",
   "execution_count": 21,
   "metadata": {},
   "outputs": [],
   "source": [
    "from gensim.models import KeyedVectors\n",
    "from gensim.models import Word2Vec\n",
    "import numpy as np\n",
    "from PreprocessingKeyWords import preprocessing\n",
    "preprocessor=preprocessing()"
   ]
  },
  {
   "cell_type": "code",
   "execution_count": 70,
   "metadata": {},
   "outputs": [],
   "source": [
    "class Word2Vec2():\n",
    "    \n",
    "    \n",
    "    def createWord2Vec(self):\n",
    "        # Load vectors directly from the file\n",
    "        model = KeyedVectors.load_word2vec_format('D:\\\\IIITH\\\\IR\\\\data\\\\GoogleNews-vectors-negative300.bin', binary=True)\n",
    "        # Saving the model for later use. Can be loaded using Word2Vec.load()\n",
    "        model.wv.save('Word2Vec_model.wv')\n",
    "        #model.save('word2vec.model')\n",
    "        \n",
    "    def loadWord2Vec(self):\n",
    "        #model = Word2Vec.load(\"word2vec.model\")\n",
    "        model=KeyedVectors.load(\"Word2Vec_model.wv\", mmap='r')\n",
    "        return model\n",
    "    \n",
    "    def getSentenceFeature(self,model,words):\n",
    "        featureVec = np.zeros(300,dtype=\"float32\")\n",
    "        for word in words:\n",
    "            if(word in model.vocab):\n",
    "                featureVec=np.add(featureVec,model[word])\n",
    "        \n",
    "        featureVec=np.divide(featureVec,len(words))\n",
    "        \n",
    "        return featureVec\n",
    "    \n",
    "    def getSentenceFeature_Ngrams(self,model,ngramsList):\n",
    "        featureVec = np.zeros(300,dtype=\"float32\")\n",
    "        tempVec= np.zeros(300,dtype=\"float32\")\n",
    "        for n in ngrams:\n",
    "            words=n.split(\" \")\n",
    "            phrase=False\n",
    "            featureVec=np.add(np.divide(tempVec,prevWordLen))\n",
    "            tempVec=np.zeros(300,dtype=\"float32\")\n",
    "            for word in words:\n",
    "                if(len(words)>1):\n",
    "                    phrase=True\n",
    "                    prevWordLen=len(words)\n",
    "                if(word in model.vocab):\n",
    "                    if(phrase is False):\n",
    "                        featureVec=np.add(featureVec,model[word])\n",
    "                    else:\n",
    "                        tempVec=np.add(featureVec,model[word])\n",
    "        \n",
    "        featureVec=np.divide(featureVec,len(ngramsList))\n",
    "        \n",
    "        return featureVec\n",
    "    \n",
    "    def getFeatureMatrix(self, model,trainData):\n",
    "        trainSize=len(trainData)\n",
    "        featureMatrix = np.zeros((trainSize,300),dtype=\"float32\")\n",
    "        \n",
    "        for i,row in enumerate(trainData):\n",
    "            tokens=row.split(\" \")\n",
    "            featureMatrix[i]=self.getSentenceFeature(model,tokens)\n",
    "        \n",
    "        return featureMatrix\n",
    "    \n",
    "    def getFeatureMatrix_Ngrams(self, model,trainData):\n",
    "        trainSize=len(trainData)\n",
    "        featureMatrix = np.zeros((trainSize,300),dtype=\"float32\")\n",
    "        \n",
    "        for i,row in enumerate(trainData):\n",
    "                featureMatrix[i]=self.getSentenceFeature(model,row)\n",
    "        \n",
    "        return featureMatrix\n",
    "            \n",
    "        \n",
    "        "
   ]
  },
  {
   "cell_type": "code",
   "execution_count": 71,
   "metadata": {},
   "outputs": [],
   "source": [
    "a=Word2Vec2()"
   ]
  },
  {
   "cell_type": "code",
   "execution_count": 72,
   "metadata": {},
   "outputs": [],
   "source": [
    "# a.createWord2Vec()"
   ]
  },
  {
   "cell_type": "code",
   "execution_count": 73,
   "metadata": {},
   "outputs": [],
   "source": [
    "b=a.loadWord2Vec()"
   ]
  },
  {
   "cell_type": "code",
   "execution_count": 76,
   "metadata": {},
   "outputs": [
    {
     "name": "stdout",
     "output_type": "stream",
     "text": [
      "[[-0.1076434   0.05424118 -0.00710406 ... -0.01430076 -0.06561279\n",
      "   0.07780457]\n",
      " [-0.14706644  0.08422852 -0.02103778 ... -0.03216404 -0.08666397\n",
      "   0.08807224]\n",
      " [-0.14288445  0.09338379  0.00132895 ... -0.02467202 -0.08329341\n",
      "   0.08229497]\n",
      " ...\n",
      " [-0.1116906   0.08510418 -0.01746727 ... -0.0069879  -0.09046663\n",
      "   0.09317452]\n",
      " [-0.12336561  0.08139716 -0.0101454  ... -0.01888311 -0.09106445\n",
      "   0.08679199]\n",
      " [-0.13280472  0.08436351 -0.01240976 ... -0.02877154 -0.08762718\n",
      "   0.11678299]]\n",
      "\n",
      "\n",
      "\n",
      "\n",
      " [[ 0.06539663  0.06683604  0.05779203 ... -0.0880839   0.02461243\n",
      "  -0.03683599]\n",
      " [ 0.04991998  0.02516831  0.0042589  ... -0.08509657  0.07657877\n",
      "  -0.04275174]\n",
      " [ 0.0348053   0.00196966  0.07784017 ... -0.03153992  0.01524353\n",
      "  -0.01417033]\n",
      " ...\n",
      " [ 0.03589545  0.03853353  0.0612793  ... -0.02773709  0.04360623\n",
      "  -0.07706705]\n",
      " [ 0.05375126  0.03165763  0.0498788  ... -0.09249878  0.03982816\n",
      "  -0.02919224]\n",
      " [-0.01140698  0.03577238  0.02974722 ... -0.01321494  0.0154386\n",
      "  -0.05046123]]\n"
     ]
    }
   ],
   "source": [
    "import pandas as pd\n",
    "train_data=pd.read_csv(\"trainData.csv\")\n",
    "data=train_data['moment']\n",
    "print(a.getFeatureMatrix_Ngrams(b,data))\n",
    "print(\"\\n\\n\\n\\n\",a.getFeatureMatrix(b,data))"
   ]
  },
  {
   "cell_type": "code",
   "execution_count": null,
   "metadata": {},
   "outputs": [],
   "source": []
  }
 ],
 "metadata": {
  "kernelspec": {
   "display_name": "Python 3",
   "language": "python",
   "name": "python3"
  },
  "language_info": {
   "codemirror_mode": {
    "name": "ipython",
    "version": 3
   },
   "file_extension": ".py",
   "mimetype": "text/x-python",
   "name": "python",
   "nbconvert_exporter": "python",
   "pygments_lexer": "ipython3",
   "version": "3.6.8"
  }
 },
 "nbformat": 4,
 "nbformat_minor": 2
}
