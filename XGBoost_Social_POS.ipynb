{
 "cells": [
  {
   "cell_type": "code",
   "execution_count": 6,
   "metadata": {},
   "outputs": [],
   "source": [
    "import pandas as pd\n",
    "from sklearn.model_selection import train_test_split\n",
    "from sklearn.preprocessing import LabelEncoder\n",
    "from sklearn.preprocessing import OneHotEncoder\n",
    "from sklearn.preprocessing import Imputer\n",
    "import numpy as np\n",
    "from PreprocessingKeyWords import preprocessing\n",
    "preprocessor=preprocessing()"
   ]
  },
  {
   "cell_type": "code",
   "execution_count": 7,
   "metadata": {},
   "outputs": [],
   "source": [
    "train_data=pd.read_csv(\"trainData.csv\")\n",
    "\n",
    "#Data Preprocessing\n",
    "\n",
    "#removing the hmid\n",
    "train_data = train_data.drop(['hmid','concepts'], axis=1)\n",
    "\n",
    "#remove missing values\n",
    "train_data=train_data.replace(('prefer not to say'),np.NAN)\n",
    "#print(train_data.isnull().sum())\n",
    "train_data=train_data.dropna()\n",
    "\n",
    "#print(train_data.isnull().sum())\n",
    "# print(len(train_data))\n",
    "\n",
    "#creating features for moments data\n",
    "happycorpus=preprocessor.getSocialKeywords(train_data['moment'])\n",
    "\n",
    "\n",
    "from sklearn.feature_extraction.text import TfidfVectorizer, TfidfTransformer\n",
    "vectorizer=TfidfVectorizer(analyzer='word',min_df = 1, stop_words = 'english', sublinear_tf=True)\n",
    "tfidf_X=vectorizer.fit_transform(happycorpus)"
   ]
  },
  {
   "cell_type": "code",
   "execution_count": 8,
   "metadata": {},
   "outputs": [
    {
     "name": "stdout",
     "output_type": "stream",
     "text": [
      "Step 1: <class 'pandas.core.series.Series'>\n",
      "done !!\n"
     ]
    }
   ],
   "source": [
    "y_agency = train_data.agency\n",
    "y_social=train_data.social\n",
    "print(\"Step 1:\",type(y_social))\n",
    "\n",
    "#train n test data split\n",
    "train_X, test_X, train_y, test_y = train_test_split(tfidf_X.toarray(), y_social, test_size=0.25)\n",
    "print(\"done !!\")\n",
    "\n",
    "# train_X, test_X, train_y, test_y = train_test_split(tfidf_X.toarray(), y_agency, test_size=0.25)\n",
    "# print(\"done !!\")\n"
   ]
  },
  {
   "cell_type": "code",
   "execution_count": 9,
   "metadata": {},
   "outputs": [
    {
     "name": "stdout",
     "output_type": "stream",
     "text": [
      "XGBClassifier(base_score=0.5, booster='gbtree', colsample_bylevel=1,\n",
      "              colsample_bynode=1, colsample_bytree=1, gamma=0,\n",
      "              learning_rate=0.1, max_delta_step=0, max_depth=3,\n",
      "              min_child_weight=1, missing=None, n_estimators=100, n_jobs=1,\n",
      "              nthread=None, objective='binary:logistic', random_state=0,\n",
      "              reg_alpha=0, reg_lambda=1, scale_pos_weight=1, seed=None,\n",
      "              silent=None, subsample=1, verbosity=1)\n"
     ]
    }
   ],
   "source": [
    "from xgboost import XGBClassifier\n",
    "from sklearn.metrics import accuracy_score\n",
    "model = XGBClassifier()\n",
    "model.fit(train_X, train_y)\n",
    "print(model)\n",
    "# make predictions for test data\n",
    "y_pred = model.predict(test_X)"
   ]
  },
  {
   "cell_type": "code",
   "execution_count": 11,
   "metadata": {},
   "outputs": [
    {
     "name": "stdout",
     "output_type": "stream",
     "text": [
      "['no' 'yes' 'no' ... 'no' 'no' 'no']\n",
      "Accuracy: 81.95%\n"
     ]
    }
   ],
   "source": [
    "print(y_pred)\n",
    "predictions = [value for value in y_pred]\n",
    "# evaluate predictions\n",
    "accuracy = accuracy_score(test_y, predictions)\n",
    "print(\"Accuracy: %.2f%%\" % (accuracy * 100.0))"
   ]
  },
  {
   "cell_type": "code",
   "execution_count": null,
   "metadata": {},
   "outputs": [],
   "source": []
  }
 ],
 "metadata": {
  "kernelspec": {
   "display_name": "Python 3",
   "language": "python",
   "name": "python3"
  }
 },
 "nbformat": 4,
 "nbformat_minor": 2
}
