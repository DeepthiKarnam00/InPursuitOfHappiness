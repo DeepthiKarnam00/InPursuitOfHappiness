{
 "cells": [
  {
   "cell_type": "code",
   "execution_count": 0,
   "metadata": {
    "colab": {},
    "colab_type": "code",
    "id": "fh5_AZf8SP9e"
   },
   "outputs": [],
   "source": [
    "import pandas as pd\n",
    "from sklearn import preprocessing\n",
    "import matplotlib.pyplot as plt\n",
    "import seaborn as sns"
   ]
  },
  {
   "cell_type": "code",
   "execution_count": 0,
   "metadata": {
    "colab": {},
    "colab_type": "code",
    "id": "tZc2EW8RWlE7"
   },
   "outputs": [],
   "source": [
    "df = pd.read_csv(\"dataset.csv\") "
   ]
  },
  {
   "cell_type": "code",
   "execution_count": 5,
   "metadata": {
    "colab": {
     "base_uri": "https://localhost:8080/",
     "height": 195
    },
    "colab_type": "code",
    "id": "ndiwHhwhW3CE",
    "outputId": "a0bf7f02-d5a5-498c-e059-1d87738d229b"
   },
   "outputs": [
    {
     "data": {
      "text/html": [
       "<div>\n",
       "<style scoped>\n",
       "    .dataframe tbody tr th:only-of-type {\n",
       "        vertical-align: middle;\n",
       "    }\n",
       "\n",
       "    .dataframe tbody tr th {\n",
       "        vertical-align: top;\n",
       "    }\n",
       "\n",
       "    .dataframe thead th {\n",
       "        text-align: right;\n",
       "    }\n",
       "</style>\n",
       "<table border=\"1\" class=\"dataframe\">\n",
       "  <thead>\n",
       "    <tr style=\"text-align: right;\">\n",
       "      <th></th>\n",
       "      <th>hmid</th>\n",
       "      <th>moment</th>\n",
       "      <th>concepts</th>\n",
       "      <th>agency</th>\n",
       "      <th>social</th>\n",
       "      <th>age</th>\n",
       "      <th>country</th>\n",
       "      <th>gender</th>\n",
       "      <th>married</th>\n",
       "      <th>parenthood</th>\n",
       "      <th>reflection</th>\n",
       "      <th>duration</th>\n",
       "    </tr>\n",
       "  </thead>\n",
       "  <tbody>\n",
       "    <tr>\n",
       "      <th>0</th>\n",
       "      <td>27674</td>\n",
       "      <td>I was happy when my son got 90% marks in his e...</td>\n",
       "      <td>education|family</td>\n",
       "      <td>no</td>\n",
       "      <td>yes</td>\n",
       "      <td>29.0</td>\n",
       "      <td>IND</td>\n",
       "      <td>m</td>\n",
       "      <td>married</td>\n",
       "      <td>y</td>\n",
       "      <td>24h</td>\n",
       "      <td>half_a_day</td>\n",
       "    </tr>\n",
       "    <tr>\n",
       "      <th>1</th>\n",
       "      <td>27685</td>\n",
       "      <td>went to movies with my friends it was fun</td>\n",
       "      <td>entertainment</td>\n",
       "      <td>yes</td>\n",
       "      <td>yes</td>\n",
       "      <td>29.0</td>\n",
       "      <td>IND</td>\n",
       "      <td>m</td>\n",
       "      <td>single</td>\n",
       "      <td>y</td>\n",
       "      <td>24h</td>\n",
       "      <td>half_a_day</td>\n",
       "    </tr>\n",
       "    <tr>\n",
       "      <th>2</th>\n",
       "      <td>27691</td>\n",
       "      <td>A hot kiss with my girl friend last night made...</td>\n",
       "      <td>romance</td>\n",
       "      <td>yes</td>\n",
       "      <td>yes</td>\n",
       "      <td>25.0</td>\n",
       "      <td>IND</td>\n",
       "      <td>m</td>\n",
       "      <td>married</td>\n",
       "      <td>y</td>\n",
       "      <td>24h</td>\n",
       "      <td>at_least_one_hour</td>\n",
       "    </tr>\n",
       "    <tr>\n",
       "      <th>3</th>\n",
       "      <td>27701</td>\n",
       "      <td>My son woke me up to a fantastic breakfast of ...</td>\n",
       "      <td>family|food</td>\n",
       "      <td>no</td>\n",
       "      <td>yes</td>\n",
       "      <td>79</td>\n",
       "      <td>USA</td>\n",
       "      <td>f</td>\n",
       "      <td>widowed</td>\n",
       "      <td>y</td>\n",
       "      <td>24h</td>\n",
       "      <td>all_day_im_still_feeling_it</td>\n",
       "    </tr>\n",
       "    <tr>\n",
       "      <th>4</th>\n",
       "      <td>27712</td>\n",
       "      <td>My older daughter keeps patting my younger dau...</td>\n",
       "      <td>family</td>\n",
       "      <td>no</td>\n",
       "      <td>yes</td>\n",
       "      <td>30</td>\n",
       "      <td>USA</td>\n",
       "      <td>f</td>\n",
       "      <td>married</td>\n",
       "      <td>y</td>\n",
       "      <td>24h</td>\n",
       "      <td>a_few_moment</td>\n",
       "    </tr>\n",
       "  </tbody>\n",
       "</table>\n",
       "</div>"
      ],
      "text/plain": [
       "    hmid  ...                     duration\n",
       "0  27674  ...                   half_a_day\n",
       "1  27685  ...                   half_a_day\n",
       "2  27691  ...            at_least_one_hour\n",
       "3  27701  ...  all_day_im_still_feeling_it\n",
       "4  27712  ...                 a_few_moment\n",
       "\n",
       "[5 rows x 12 columns]"
      ]
     },
     "execution_count": 5,
     "metadata": {
      "tags": []
     },
     "output_type": "execute_result"
    }
   ],
   "source": [
    "df.head()"
   ]
  },
  {
   "cell_type": "code",
   "execution_count": 6,
   "metadata": {
    "colab": {
     "base_uri": "https://localhost:8080/",
     "height": 67
    },
    "colab_type": "code",
    "id": "P7IOzEnR_MY4",
    "outputId": "ac195b5d-89e5-4ea7-a4f4-b0f23eb6ad5f"
   },
   "outputs": [
    {
     "data": {
      "text/plain": [
       "Index(['hmid', 'moment', 'concepts', 'agency', 'social', 'age', 'country',\n",
       "       'gender', 'married', 'parenthood', 'reflection', 'duration'],\n",
       "      dtype='object')"
      ]
     },
     "execution_count": 6,
     "metadata": {
      "tags": []
     },
     "output_type": "execute_result"
    }
   ],
   "source": [
    "df.columns"
   ]
  },
  {
   "cell_type": "code",
   "execution_count": 7,
   "metadata": {
    "colab": {
     "base_uri": "https://localhost:8080/",
     "height": 34
    },
    "colab_type": "code",
    "id": "YvdlhsqZf7PQ",
    "outputId": "bb5c5e98-c00c-4725-db66-e25427bc6571"
   },
   "outputs": [
    {
     "data": {
      "text/plain": [
       "(10560, 12)"
      ]
     },
     "execution_count": 7,
     "metadata": {
      "tags": []
     },
     "output_type": "execute_result"
    }
   ],
   "source": [
    "df.shape"
   ]
  },
  {
   "cell_type": "markdown",
   "metadata": {
    "colab_type": "text",
    "id": "A853yC1ZXJ94"
   },
   "source": [
    "### **Data Analysis**\n"
   ]
  },
  {
   "cell_type": "code",
   "execution_count": 0,
   "metadata": {
    "colab": {},
    "colab_type": "code",
    "id": "bt4gLS92X2Rj"
   },
   "outputs": [],
   "source": [
    "#Removing id \n",
    "t_df = df.drop(df.columns[[0,1,2,6,11]], axis=1)       #Removing hmid,happymoment,concepts,country,duration"
   ]
  },
  {
   "cell_type": "code",
   "execution_count": 10,
   "metadata": {
    "colab": {
     "base_uri": "https://localhost:8080/",
     "height": 195
    },
    "colab_type": "code",
    "id": "sQ9A27hy_bbS",
    "outputId": "3c6baeab-e153-4f7c-b5b8-f0d740e5ffb8"
   },
   "outputs": [
    {
     "data": {
      "text/html": [
       "<div>\n",
       "<style scoped>\n",
       "    .dataframe tbody tr th:only-of-type {\n",
       "        vertical-align: middle;\n",
       "    }\n",
       "\n",
       "    .dataframe tbody tr th {\n",
       "        vertical-align: top;\n",
       "    }\n",
       "\n",
       "    .dataframe thead th {\n",
       "        text-align: right;\n",
       "    }\n",
       "</style>\n",
       "<table border=\"1\" class=\"dataframe\">\n",
       "  <thead>\n",
       "    <tr style=\"text-align: right;\">\n",
       "      <th></th>\n",
       "      <th>agency</th>\n",
       "      <th>social</th>\n",
       "      <th>age</th>\n",
       "      <th>gender</th>\n",
       "      <th>married</th>\n",
       "      <th>parenthood</th>\n",
       "      <th>reflection</th>\n",
       "    </tr>\n",
       "  </thead>\n",
       "  <tbody>\n",
       "    <tr>\n",
       "      <th>0</th>\n",
       "      <td>no</td>\n",
       "      <td>yes</td>\n",
       "      <td>29.0</td>\n",
       "      <td>m</td>\n",
       "      <td>married</td>\n",
       "      <td>y</td>\n",
       "      <td>24h</td>\n",
       "    </tr>\n",
       "    <tr>\n",
       "      <th>1</th>\n",
       "      <td>yes</td>\n",
       "      <td>yes</td>\n",
       "      <td>29.0</td>\n",
       "      <td>m</td>\n",
       "      <td>single</td>\n",
       "      <td>y</td>\n",
       "      <td>24h</td>\n",
       "    </tr>\n",
       "    <tr>\n",
       "      <th>2</th>\n",
       "      <td>yes</td>\n",
       "      <td>yes</td>\n",
       "      <td>25.0</td>\n",
       "      <td>m</td>\n",
       "      <td>married</td>\n",
       "      <td>y</td>\n",
       "      <td>24h</td>\n",
       "    </tr>\n",
       "    <tr>\n",
       "      <th>3</th>\n",
       "      <td>no</td>\n",
       "      <td>yes</td>\n",
       "      <td>79</td>\n",
       "      <td>f</td>\n",
       "      <td>widowed</td>\n",
       "      <td>y</td>\n",
       "      <td>24h</td>\n",
       "    </tr>\n",
       "    <tr>\n",
       "      <th>4</th>\n",
       "      <td>no</td>\n",
       "      <td>yes</td>\n",
       "      <td>30</td>\n",
       "      <td>f</td>\n",
       "      <td>married</td>\n",
       "      <td>y</td>\n",
       "      <td>24h</td>\n",
       "    </tr>\n",
       "  </tbody>\n",
       "</table>\n",
       "</div>"
      ],
      "text/plain": [
       "  agency social   age gender  married parenthood reflection\n",
       "0     no    yes  29.0      m  married          y        24h\n",
       "1    yes    yes  29.0      m   single          y        24h\n",
       "2    yes    yes  25.0      m  married          y        24h\n",
       "3     no    yes    79      f  widowed          y        24h\n",
       "4     no    yes    30      f  married          y        24h"
      ]
     },
     "execution_count": 10,
     "metadata": {
      "tags": []
     },
     "output_type": "execute_result"
    }
   ],
   "source": [
    "t_df.head()"
   ]
  },
  {
   "cell_type": "code",
   "execution_count": 11,
   "metadata": {
    "colab": {
     "base_uri": "https://localhost:8080/",
     "height": 34
    },
    "colab_type": "code",
    "id": "KX90yQJRD-K4",
    "outputId": "ecfcb905-53e5-4bfc-99a0-3d55121f7a70"
   },
   "outputs": [
    {
     "data": {
      "text/plain": [
       "(10560, 7)"
      ]
     },
     "execution_count": 11,
     "metadata": {
      "tags": []
     },
     "output_type": "execute_result"
    }
   ],
   "source": [
    "t_df.shape"
   ]
  },
  {
   "cell_type": "code",
   "execution_count": 12,
   "metadata": {
    "colab": {
     "base_uri": "https://localhost:8080/",
     "height": 218
    },
    "colab_type": "code",
    "id": "GxXTzBpUCXIw",
    "outputId": "65415890-71f1-429b-9a77-ce42b0934263"
   },
   "outputs": [
    {
     "name": "stdout",
     "output_type": "stream",
     "text": [
      "agency\n",
      "['no', 'yes']\n",
      "social\n",
      "['no', 'yes']\n",
      "gender\n",
      "['f', 'm', 'nan', 'o']\n",
      "married\n",
      "['divorced', 'married', 'nan', 'separated', 'single', 'widowed']\n",
      "parenthood\n",
      "['n', 'nan', 'y']\n",
      "reflection\n",
      "['24h', '3m']\n"
     ]
    }
   ],
   "source": [
    "#Encoding categorical labels\n",
    "label_encoder = preprocessing.LabelEncoder()\n",
    "cols = [0,1,3,4,5,6]          #not for age\n",
    "for i in cols:\n",
    "    print(t_df.columns[i])\n",
    "    label_encoder.fit(t_df.iloc[:,i].astype('str'))\n",
    "    print(list(label_encoder.classes_))\n",
    "    t_df.iloc[:,i] = label_encoder.transform(t_df.iloc[:,i].astype('str')).astype('float64')\n",
    "    "
   ]
  },
  {
   "cell_type": "code",
   "execution_count": 0,
   "metadata": {
    "colab": {},
    "colab_type": "code",
    "id": "QtAYSVrcI-Bl"
   },
   "outputs": [],
   "source": [
    "df_agency = t_df[['agency','age','gender','married','parenthood','reflection']]\n",
    "df_social = t_df[['social','age','gender','married','parenthood','reflection']]"
   ]
  },
  {
   "cell_type": "markdown",
   "metadata": {
    "colab_type": "text",
    "id": "7iWJT5UyJTvK"
   },
   "source": [
    "# Correlation among Features"
   ]
  },
  {
   "cell_type": "markdown",
   "metadata": {
    "colab_type": "text",
    "id": "KWKVh5WxJaO8"
   },
   "source": [
    "### Agency"
   ]
  },
  {
   "cell_type": "code",
   "execution_count": 15,
   "metadata": {
    "colab": {
     "base_uri": "https://localhost:8080/",
     "height": 195
    },
    "colab_type": "code",
    "id": "puYDPBxhHAI1",
    "outputId": "3e5606ef-043d-46c8-d651-52c601d164f3"
   },
   "outputs": [
    {
     "data": {
      "text/html": [
       "<div>\n",
       "<style scoped>\n",
       "    .dataframe tbody tr th:only-of-type {\n",
       "        vertical-align: middle;\n",
       "    }\n",
       "\n",
       "    .dataframe tbody tr th {\n",
       "        vertical-align: top;\n",
       "    }\n",
       "\n",
       "    .dataframe thead th {\n",
       "        text-align: right;\n",
       "    }\n",
       "</style>\n",
       "<table border=\"1\" class=\"dataframe\">\n",
       "  <thead>\n",
       "    <tr style=\"text-align: right;\">\n",
       "      <th></th>\n",
       "      <th>agency</th>\n",
       "      <th>gender</th>\n",
       "      <th>married</th>\n",
       "      <th>parenthood</th>\n",
       "      <th>reflection</th>\n",
       "    </tr>\n",
       "  </thead>\n",
       "  <tbody>\n",
       "    <tr>\n",
       "      <th>agency</th>\n",
       "      <td>1.000000</td>\n",
       "      <td>0.068466</td>\n",
       "      <td>0.100804</td>\n",
       "      <td>-0.126032</td>\n",
       "      <td>-0.022771</td>\n",
       "    </tr>\n",
       "    <tr>\n",
       "      <th>gender</th>\n",
       "      <td>0.068466</td>\n",
       "      <td>1.000000</td>\n",
       "      <td>0.132348</td>\n",
       "      <td>-0.139602</td>\n",
       "      <td>0.003909</td>\n",
       "    </tr>\n",
       "    <tr>\n",
       "      <th>married</th>\n",
       "      <td>0.100804</td>\n",
       "      <td>0.132348</td>\n",
       "      <td>1.000000</td>\n",
       "      <td>-0.629622</td>\n",
       "      <td>0.008826</td>\n",
       "    </tr>\n",
       "    <tr>\n",
       "      <th>parenthood</th>\n",
       "      <td>-0.126032</td>\n",
       "      <td>-0.139602</td>\n",
       "      <td>-0.629622</td>\n",
       "      <td>1.000000</td>\n",
       "      <td>-0.006921</td>\n",
       "    </tr>\n",
       "    <tr>\n",
       "      <th>reflection</th>\n",
       "      <td>-0.022771</td>\n",
       "      <td>0.003909</td>\n",
       "      <td>0.008826</td>\n",
       "      <td>-0.006921</td>\n",
       "      <td>1.000000</td>\n",
       "    </tr>\n",
       "  </tbody>\n",
       "</table>\n",
       "</div>"
      ],
      "text/plain": [
       "              agency    gender   married  parenthood  reflection\n",
       "agency      1.000000  0.068466  0.100804   -0.126032   -0.022771\n",
       "gender      0.068466  1.000000  0.132348   -0.139602    0.003909\n",
       "married     0.100804  0.132348  1.000000   -0.629622    0.008826\n",
       "parenthood -0.126032 -0.139602 -0.629622    1.000000   -0.006921\n",
       "reflection -0.022771  0.003909  0.008826   -0.006921    1.000000"
      ]
     },
     "execution_count": 15,
     "metadata": {
      "tags": []
     },
     "output_type": "execute_result"
    }
   ],
   "source": [
    "corr1 = df_agency.corr()\n",
    "corr1"
   ]
  },
  {
   "cell_type": "code",
   "execution_count": 16,
   "metadata": {
    "colab": {
     "base_uri": "https://localhost:8080/",
     "height": 407
    },
    "colab_type": "code",
    "id": "ewSAtb7gHAKq",
    "outputId": "5815a73b-5ad0-4240-82aa-2d5930c95363"
   },
   "outputs": [
    {
     "data": {
      "text/plain": [
       "Text(0.5, 1.05, 'Correlation of features for Agency')"
      ]
     },
     "execution_count": 16,
     "metadata": {
      "tags": []
     },
     "output_type": "execute_result"
    },
    {
     "data": {
      "image/png": "[encoded data removed]",
      "text/plain": [
       "<Figure size 504x432 with 2 Axes>"
      ]
     },
     "metadata": {
      "tags": []
     },
     "output_type": "display_data"
    }
   ],
   "source": [
    "f,ax = plt.subplots(figsize=(7,6))\n",
    "sns.heatmap(corr1)\n",
    "plt.title(\"Correlation of features for Agency\",y=1.05)"
   ]
  },
  {
   "cell_type": "markdown",
   "metadata": {
    "colab_type": "text",
    "id": "b60ZoJmiJ--J"
   },
   "source": [
    "Social"
   ]
  },
  {
   "cell_type": "code",
   "execution_count": 17,
   "metadata": {
    "colab": {
     "base_uri": "https://localhost:8080/",
     "height": 195
    },
    "colab_type": "code",
    "id": "xS87TMxCG9iO",
    "outputId": "d2e928f1-2b09-4fae-be1d-edfaf20fb3b3"
   },
   "outputs": [
    {
     "data": {
      "text/html": [
       "<div>\n",
       "<style scoped>\n",
       "    .dataframe tbody tr th:only-of-type {\n",
       "        vertical-align: middle;\n",
       "    }\n",
       "\n",
       "    .dataframe tbody tr th {\n",
       "        vertical-align: top;\n",
       "    }\n",
       "\n",
       "    .dataframe thead th {\n",
       "        text-align: right;\n",
       "    }\n",
       "</style>\n",
       "<table border=\"1\" class=\"dataframe\">\n",
       "  <thead>\n",
       "    <tr style=\"text-align: right;\">\n",
       "      <th></th>\n",
       "      <th>social</th>\n",
       "      <th>gender</th>\n",
       "      <th>married</th>\n",
       "      <th>parenthood</th>\n",
       "      <th>reflection</th>\n",
       "    </tr>\n",
       "  </thead>\n",
       "  <tbody>\n",
       "    <tr>\n",
       "      <th>social</th>\n",
       "      <td>1.000000</td>\n",
       "      <td>-0.079635</td>\n",
       "      <td>-0.125731</td>\n",
       "      <td>0.165523</td>\n",
       "      <td>0.040565</td>\n",
       "    </tr>\n",
       "    <tr>\n",
       "      <th>gender</th>\n",
       "      <td>-0.079635</td>\n",
       "      <td>1.000000</td>\n",
       "      <td>0.132348</td>\n",
       "      <td>-0.139602</td>\n",
       "      <td>0.003909</td>\n",
       "    </tr>\n",
       "    <tr>\n",
       "      <th>married</th>\n",
       "      <td>-0.125731</td>\n",
       "      <td>0.132348</td>\n",
       "      <td>1.000000</td>\n",
       "      <td>-0.629622</td>\n",
       "      <td>0.008826</td>\n",
       "    </tr>\n",
       "    <tr>\n",
       "      <th>parenthood</th>\n",
       "      <td>0.165523</td>\n",
       "      <td>-0.139602</td>\n",
       "      <td>-0.629622</td>\n",
       "      <td>1.000000</td>\n",
       "      <td>-0.006921</td>\n",
       "    </tr>\n",
       "    <tr>\n",
       "      <th>reflection</th>\n",
       "      <td>0.040565</td>\n",
       "      <td>0.003909</td>\n",
       "      <td>0.008826</td>\n",
       "      <td>-0.006921</td>\n",
       "      <td>1.000000</td>\n",
       "    </tr>\n",
       "  </tbody>\n",
       "</table>\n",
       "</div>"
      ],
      "text/plain": [
       "              social    gender   married  parenthood  reflection\n",
       "social      1.000000 -0.079635 -0.125731    0.165523    0.040565\n",
       "gender     -0.079635  1.000000  0.132348   -0.139602    0.003909\n",
       "married    -0.125731  0.132348  1.000000   -0.629622    0.008826\n",
       "parenthood  0.165523 -0.139602 -0.629622    1.000000   -0.006921\n",
       "reflection  0.040565  0.003909  0.008826   -0.006921    1.000000"
      ]
     },
     "execution_count": 17,
     "metadata": {
      "tags": []
     },
     "output_type": "execute_result"
    }
   ],
   "source": [
    "corr2 = df_social.corr()\n",
    "corr2"
   ]
  },
  {
   "cell_type": "code",
   "execution_count": 18,
   "metadata": {
    "colab": {
     "base_uri": "https://localhost:8080/",
     "height": 407
    },
    "colab_type": "code",
    "id": "lwM_ezefKFSl",
    "outputId": "33403891-61c4-4e63-9109-9f1491d5ee2a"
   },
   "outputs": [
    {
     "data": {
      "text/plain": [
       "Text(0.5, 1.05, 'Correlation of features for Social')"
      ]
     },
     "execution_count": 18,
     "metadata": {
      "tags": []
     },
     "output_type": "execute_result"
    },
    {
     "data": {
      "image/png": "[encoded data removed]",
      "text/plain": [
       "<Figure size 504x432 with 2 Axes>"
      ]
     },
     "metadata": {
      "tags": []
     },
     "output_type": "display_data"
    }
   ],
   "source": [
    "f,ax = plt.subplots(figsize=(7,6))\n",
    "sns.heatmap(corr2)\n",
    "plt.title(\"Correlation of features for Social\",y=1.05)"
   ]
  },
  {
   "cell_type": "markdown",
   "metadata": {
    "colab_type": "text",
    "id": "trjV20JgQzhJ"
   },
   "source": [
    "## Length of moments"
   ]
  },
  {
   "cell_type": "code",
   "execution_count": 0,
   "metadata": {
    "colab": {},
    "colab_type": "code",
    "id": "dph1XgHhWQtD"
   },
   "outputs": [],
   "source": [
    "moments_a = df[['moment','agency']]\n",
    "moments_s = df[['moment','social']]"
   ]
  },
  {
   "cell_type": "code",
   "execution_count": 0,
   "metadata": {
    "colab": {},
    "colab_type": "code",
    "id": "u6l846eRaPmR"
   },
   "outputs": [],
   "source": [
    "def len_moment(moment):\n",
    "    moment = moment.strip()\n",
    "    moment = moment.split()\n",
    "    return len(moment)"
   ]
  },
  {
   "cell_type": "markdown",
   "metadata": {
    "colab_type": "text",
    "id": "huycU7LXYOts"
   },
   "source": [
    "Agency"
   ]
  },
  {
   "cell_type": "code",
   "execution_count": 21,
   "metadata": {
    "colab": {
     "base_uri": "https://localhost:8080/",
     "height": 50
    },
    "colab_type": "code",
    "id": "kFd9aqxkWdSD",
    "outputId": "f7ec6a0c-418b-487a-e379-9739089ecb03"
   },
   "outputs": [
    {
     "name": "stdout",
     "output_type": "stream",
     "text": [
      "Avg length of moment for Agency-YES :  13.053873781426372\n",
      "Avg length of moment for Agency-NO :  14.535817655571636\n"
     ]
    }
   ],
   "source": [
    "yes_length = 0\n",
    "yes_count = 0\n",
    "no_length = 0\n",
    "no_count = 0\n",
    "\n",
    "for i in range(len(moments_a)):\n",
    "    moment = moments_a.iloc[i][0]\n",
    "    agency = moments_a.iloc[i][1]\n",
    "    if( agency == \"yes\"):\n",
    "        yes_count += 1\n",
    "        yes_length += len_moment(moment)\n",
    "    else:\n",
    "        no_count += 1\n",
    "        no_length += len_moment(moment)\n",
    "    \n",
    "    \n",
    "print(\"Avg length of moment for Agency-YES : \",(float(yes_length)/float(yes_count)))\n",
    "print(\"Avg length of moment for Agency-NO : \",(float(no_length)/float(no_count)))"
   ]
  },
  {
   "cell_type": "markdown",
   "metadata": {
    "colab_type": "text",
    "id": "LpSckl0_bgAO"
   },
   "source": [
    "Social"
   ]
  },
  {
   "cell_type": "code",
   "execution_count": 22,
   "metadata": {
    "colab": {
     "base_uri": "https://localhost:8080/",
     "height": 50
    },
    "colab_type": "code",
    "id": "IIxhD7wybhir",
    "outputId": "e069ec08-a7dc-4cd1-bef0-32839ceee9d9"
   },
   "outputs": [
    {
     "name": "stdout",
     "output_type": "stream",
     "text": [
      "Avg length of moment for Social-YES :  14.674666666666667\n",
      "Avg length of moment for Social-NO :  12.036474164133738\n"
     ]
    }
   ],
   "source": [
    "yes_length = 0\n",
    "yes_count = 0\n",
    "no_length = 0\n",
    "no_count = 0\n",
    "\n",
    "for i in range(len(moments_s)):\n",
    "    moment = moments_s.iloc[i][0]\n",
    "    social = moments_s.iloc[i][1]\n",
    "    if( social == \"yes\"):\n",
    "        yes_count += 1\n",
    "        yes_length += len_moment(moment)\n",
    "    else:\n",
    "        no_count += 1\n",
    "        no_length += len_moment(moment)\n",
    "    \n",
    "    \n",
    "print(\"Avg length of moment for Social-YES : \",(float(yes_length)/float(yes_count)))\n",
    "print(\"Avg length of moment for Social-NO : \",(float(no_length)/float(no_count)))"
   ]
  }
 ],
 "metadata": {
  "colab": {
   "collapsed_sections": [],
   "name": "claff-happydb_wrong.ipynb",
   "provenance": []
  },
  "kernelspec": {
   "display_name": "Python 3",
   "language": "python",
   "name": "python3"
  },
  "language_info": {
   "codemirror_mode": {
    "name": "ipython",
    "version": 3
   },
   "file_extension": ".py",
   "mimetype": "text/x-python",
   "name": "python",
   "nbconvert_exporter": "python",
   "pygments_lexer": "ipython3",
   "version": "3.7.2"
  }
 },
 "nbformat": 4,
 "nbformat_minor": 1
}
